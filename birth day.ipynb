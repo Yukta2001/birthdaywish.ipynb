{
 "cells": [
  {
   "cell_type": "code",
   "execution_count": 15,
   "metadata": {},
   "outputs": [],
   "source": [
    "import turtle\n",
    "import random"
   ]
  },
  {
   "cell_type": "code",
   "execution_count": 16,
   "metadata": {},
   "outputs": [],
   "source": [
    "#bg color for page\n",
    "bg = turtle.Screen()\n",
    "bg.bgcolor('light blue')\n",
    "s = turtle.Turtle()\n",
    "s.shape('turtle')\n",
    "s.speed(75)"
   ]
  },
  {
   "cell_type": "code",
   "execution_count": 17,
   "metadata": {},
   "outputs": [],
   "source": [
    "#draw lines\n",
    "s.penup()\n",
    "s.goto(-190, -180)\n",
    "s.color('yellow')\n",
    "s.pensize(6)\n",
    "s.pendown()\n",
    "s.goto(190, -180)\n",
    "s.penup()\n",
    "\n",
    "s.penup()\n",
    "s.goto(-160, -150)\n",
    "s.color('purple')\n",
    "s.pensize(6)\n",
    "s.pendown()\n",
    "s.goto(160, -150)\n",
    "s.penup()\n",
    "\n",
    "s.penup()\n",
    "s.goto(-130, -120)\n",
    "s.color('teal')\n",
    "s.pensize(6)\n",
    "s.pendown()\n",
    "s.goto(130, -120)\n",
    "s.penup()"
   ]
  },
  {
   "cell_type": "code",
   "execution_count": 18,
   "metadata": {},
   "outputs": [],
   "source": [
    "#draw cake\n",
    "s.goto(-74,-110)\n",
    "s.pendown()\n",
    "s.color('grey')\n",
    "s.goto(50, -110)\n",
    "s.left(90)\n",
    "s.forward(60)\n",
    "s.left(90)\n",
    "s.forward(125)\n",
    "s.left(90)\n",
    "s.forward(60)\n",
    "s.penup()\n",
    "\n",
    "#draw candles\n",
    "s.goto(-60, -40)\n",
    "s.color('magenta')\n",
    "s.pendown()\n",
    "s.pensize(3)\n",
    "s.goto(-60, -20)\n",
    "s.penup()\n",
    "\n",
    "s.goto(-40, -40)\n",
    "s.color('yellow')\n",
    "s.pendown()\n",
    "s.pensize(3)\n",
    "s.goto(-40, -20)\n",
    "s.penup()\n",
    "\n",
    "s.goto(-20, -40)\n",
    "s.color('magenta')\n",
    "s.pendown()\n",
    "s.pensize(3)\n",
    "s.goto(-20, -20)\n",
    "s.penup()\n",
    "\n",
    "s.goto(0, -40)\n",
    "s.color('yellow')\n",
    "s.pendown()\n",
    "s.pensize(3)\n",
    "s.goto(0, -20)\n",
    "s.penup()\n",
    "\n",
    "s.goto(20, -40)\n",
    "s.color('magenta')\n",
    "s.pendown()\n",
    "s.pensize(3)\n",
    "s.goto(20, -20)\n",
    "s.penup()\n",
    "\n",
    "\n",
    "\n"
   ]
  },
  {
   "cell_type": "code",
   "execution_count": 19,
   "metadata": {},
   "outputs": [],
   "source": [
    "#print message\n",
    "s.goto(-110, 35)\n",
    "s.color('green')\n",
    "s.pendown()\n",
    "style = ('Courier', 30, 'bold')\n",
    "msg = 'HAPPY BIRTHDAY \\n SHIVANI'\n",
    "s.write(msg,font = style,align = 'center')\n",
    "s.hideturtle()\n",
    "\n",
    "#turtle to corner\n",
    "#s.penup()\n",
    "#s.goto(-250, 250)"
   ]
  },
  {
   "cell_type": "code",
   "execution_count": null,
   "metadata": {},
   "outputs": [],
   "source": []
  }
 ],
 "metadata": {
  "kernelspec": {
   "display_name": "Python 3",
   "language": "python",
   "name": "python3"
  },
  "language_info": {
   "codemirror_mode": {
    "name": "ipython",
    "version": 3
   },
   "file_extension": ".py",
   "mimetype": "text/x-python",
   "name": "python",
   "nbconvert_exporter": "python",
   "pygments_lexer": "ipython3",
   "version": "3.7.1"
  }
 },
 "nbformat": 4,
 "nbformat_minor": 2
}
